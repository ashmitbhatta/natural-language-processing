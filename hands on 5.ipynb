{
  "nbformat": 4,
  "nbformat_minor": 0,
  "metadata": {
    "colab": {
      "name": "Untitled1.ipynb",
      "provenance": [],
      "collapsed_sections": []
    },
    "kernelspec": {
      "name": "python3",
      "display_name": "Python 3"
    }
  },
  "cells": [
    {
      "cell_type": "code",
      "metadata": {
        "id": "Zr68gtZBj6qg"
      },
      "source": [
        "import spacy"
      ],
      "execution_count": null,
      "outputs": []
    },
    {
      "cell_type": "code",
      "metadata": {
        "id": "vLSJNinIj8NC"
      },
      "source": [
        "m = spacy.load('en_core_web_sm')"
      ],
      "execution_count": null,
      "outputs": []
    },
    {
      "cell_type": "code",
      "metadata": {
        "id": "vGYjDv9bj_74"
      },
      "source": [
        "sampletext=\"Biden was raised in Scranton, Pennsylvania, and New Castle County, Delaware. He studied at the University of Delaware before receiving his law degree from Syracuse University.[3] He became a lawyer in 1969 and was elected to the New Castle County Council in 1970. He was elected to the U.S. Senate from Delaware in 1972, becoming the sixth-youngest senator in American history. \""
      ],
      "execution_count": null,
      "outputs": []
    },
    {
      "cell_type": "code",
      "metadata": {
        "id": "OI2gJb5MkRXW"
      },
      "source": [
        "doc=m(sampletext)"
      ],
      "execution_count": null,
      "outputs": []
    },
    {
      "cell_type": "code",
      "metadata": {
        "id": "QxxpWFeIkTqy",
        "outputId": "67ca66c9-b85a-4a86-80d6-3a4957c6c459",
        "colab": {
          "base_uri": "https://localhost:8080/",
          "height": 252
        }
      },
      "source": [
        "for ent in doc.ents:\n",
        "  print(ent.text,ent.label_)"
      ],
      "execution_count": null,
      "outputs": [
        {
          "output_type": "stream",
          "text": [
            "Scranton GPE\n",
            "Pennsylvania GPE\n",
            "New Castle County GPE\n",
            "Delaware GPE\n",
            "the University of Delaware ORG\n",
            "Syracuse GPE\n",
            "1969 DATE\n",
            "the New Castle County Council ORG\n",
            "1970 DATE\n",
            "the U.S. Senate ORG\n",
            "Delaware GPE\n",
            "1972 DATE\n",
            "sixth ORDINAL\n",
            "American NORP\n"
          ],
          "name": "stdout"
        }
      ]
    },
    {
      "cell_type": "code",
      "metadata": {
        "id": "3MjF-HBtkVgl"
      },
      "source": [
        "sampletext2=\"Cultural Heritage is an expression of the ways of living developed by a community and passed on from generation to generation, including customs, practices, places, objects, artistic expressions and values. Cultural Heritage is often expressed as either Intangible or Tangible Cultural Heritage (ICOMOS, 2002).\""
      ],
      "execution_count": null,
      "outputs": []
    },
    {
      "cell_type": "code",
      "metadata": {
        "id": "VT94r60QlK7v"
      },
      "source": [
        "doc2=m(sampletext2)"
      ],
      "execution_count": null,
      "outputs": []
    },
    {
      "cell_type": "code",
      "metadata": {
        "id": "ypRrJN6XlRnb",
        "outputId": "f312d035-7f82-41c1-9188-8bfd9b6760d0",
        "colab": {
          "base_uri": "https://localhost:8080/",
          "height": 84
        }
      },
      "source": [
        "for ent in doc2.ents:\n",
        "  print(ent.text,ent.label_)"
      ],
      "execution_count": null,
      "outputs": [
        {
          "output_type": "stream",
          "text": [
            "Cultural Heritage ORG\n",
            "Cultural Heritage ORG\n",
            "ICOMOS ORG\n",
            "2002 DATE\n"
          ],
          "name": "stdout"
        }
      ]
    },
    {
      "cell_type": "code",
      "metadata": {
        "id": "zoiB7WhxlVrY"
      },
      "source": [
        "text1=\"Himalaya, is a mountain range in Asia separating the plains of the Indian subcontinent from the Tibetan Plateau. The range has many of Earth's highest peaks, including the highest, Mount Everest, at the border between Nepal and China.\""
      ],
      "execution_count": null,
      "outputs": []
    },
    {
      "cell_type": "code",
      "metadata": {
        "id": "l2JyMTgZluQi"
      },
      "source": [
        "doc1=m(text1)"
      ],
      "execution_count": null,
      "outputs": []
    },
    {
      "cell_type": "code",
      "metadata": {
        "id": "VMa0_3Vklyn8",
        "outputId": "427844e4-79ba-4563-b90c-8a3c9f4dcbb5",
        "colab": {
          "base_uri": "https://localhost:8080/",
          "height": 151
        }
      },
      "source": [
        "for ent in doc1.ents:\n",
        "  print(ent.text,ent.label_)"
      ],
      "execution_count": null,
      "outputs": [
        {
          "output_type": "stream",
          "text": [
            "Himalaya ORG\n",
            "Asia LOC\n",
            "Indian NORP\n",
            "the Tibetan Plateau LOC\n",
            "Earth LOC\n",
            "Mount Everest LOC\n",
            "Nepal GPE\n",
            "China GPE\n"
          ],
          "name": "stdout"
        }
      ]
    },
    {
      "cell_type": "code",
      "metadata": {
        "id": "Y50KuHGDl1OG"
      },
      "source": [
        ""
      ],
      "execution_count": null,
      "outputs": []
    }
  ]
}